{
 "cells": [
  {
   "cell_type": "code",
   "execution_count": null,
   "metadata": {},
   "outputs": [],
   "source": [
    "list=[]"
   ]
  },
  {
   "cell_type": "code",
   "execution_count": null,
   "metadata": {},
   "outputs": [],
   "source": [
    "list"
   ]
  },
  {
   "cell_type": "code",
   "execution_count": null,
   "metadata": {},
   "outputs": [],
   "source": [
    "list1= [0,1,2,3,4]"
   ]
  },
  {
   "cell_type": "code",
   "execution_count": null,
   "metadata": {},
   "outputs": [],
   "source": [
    "list1"
   ]
  },
  {
   "cell_type": "code",
   "execution_count": null,
   "metadata": {},
   "outputs": [],
   "source": [
    "len(list1)"
   ]
  },
  {
   "cell_type": "code",
   "execution_count": 3,
   "metadata": {},
   "outputs": [
    {
     "name": "stdout",
     "output_type": "stream",
     "text": [
      "['banana', 'apple', 'grape', 'pineapple', 'orange']\n"
     ]
    }
   ],
   "source": [
    "fruitlist=[\"banana\", \"apple\", \"grape\", \"pineapple\", \"orange\"]\n",
    "print(fruitlist)"
   ]
  },
  {
   "cell_type": "code",
   "execution_count": 4,
   "metadata": {},
   "outputs": [
    {
     "name": "stdout",
     "output_type": "stream",
     "text": [
      "第1項 banana\n",
      "第2項 apple\n",
      "第3項 grape\n",
      "第4項 pineapple\n",
      "第5項 orange\n"
     ]
    }
   ],
   "source": [
    "for i in range(0, len(fruitlist)):\n",
    "    print('第%d項 %s'%(i+1,fruitlist[i]))"
   ]
  },
  {
   "cell_type": "code",
   "execution_count": 5,
   "metadata": {},
   "outputs": [
    {
     "name": "stdout",
     "output_type": "stream",
     "text": [
      "第1項 banana\n",
      "第2項 apple\n",
      "第3項 grape\n",
      "第4項 pineapple\n",
      "第5項 orange\n"
     ]
    }
   ],
   "source": [
    "k=0\n",
    "while k<len(fruitlist):\n",
    "    print('第%d項 %s'%(k+1,fruitlist[k]))\n",
    "    k+=1"
   ]
  },
  {
   "cell_type": "code",
   "execution_count": 6,
   "metadata": {},
   "outputs": [
    {
     "name": "stdout",
     "output_type": "stream",
     "text": [
      "第1項 banana\n",
      "第2項 apple\n",
      "第3項 grape\n",
      "第4項 pineapple\n",
      "第5項 orange\n"
     ]
    }
   ],
   "source": [
    "k=0\n",
    "while True:\n",
    "    print('第%d項 %s'%(k+1,fruitlist[k]))\n",
    "    k+=1\n",
    "    if k==len(fruitlist):\n",
    "        break"
   ]
  },
  {
   "cell_type": "code",
   "execution_count": null,
   "metadata": {},
   "outputs": [],
   "source": [
    "fruitlist[0:3]"
   ]
  },
  {
   "cell_type": "code",
   "execution_count": null,
   "metadata": {},
   "outputs": [],
   "source": [
    "fruitlist[1:2]"
   ]
  },
  {
   "cell_type": "code",
   "execution_count": null,
   "metadata": {},
   "outputs": [],
   "source": [
    "fruitlist[-5]"
   ]
  },
  {
   "cell_type": "code",
   "execution_count": null,
   "metadata": {},
   "outputs": [],
   "source": [
    "fruitlist[-5:-4]"
   ]
  },
  {
   "cell_type": "code",
   "execution_count": null,
   "metadata": {},
   "outputs": [],
   "source": [
    "fruitlist[-5:]"
   ]
  },
  {
   "cell_type": "code",
   "execution_count": null,
   "metadata": {},
   "outputs": [],
   "source": [
    "fruitlist[0:]"
   ]
  },
  {
   "cell_type": "code",
   "execution_count": null,
   "metadata": {},
   "outputs": [],
   "source": []
  },
  {
   "cell_type": "code",
   "execution_count": 82,
   "metadata": {},
   "outputs": [
    {
     "data": {
      "text/plain": [
       "['Guava',\n",
       " 'banana',\n",
       " 'apple',\n",
       " 'grape',\n",
       " 'pineapple',\n",
       " 'orange',\n",
       " 'kiwi',\n",
       " 'kiwi',\n",
       " 'kiwi',\n",
       " 'kiwi',\n",
       " 'kiwi',\n",
       " 'kiwi',\n",
       " 'kiwi',\n",
       " 'kiwi']"
      ]
     },
     "execution_count": 82,
     "metadata": {},
     "output_type": "execute_result"
    }
   ],
   "source": [
    "fruitlist.append(\"kiwi\")\n",
    "fruitlist"
   ]
  },
  {
   "cell_type": "code",
   "execution_count": 27,
   "metadata": {},
   "outputs": [
    {
     "data": {
      "text/plain": [
       "['Guava',\n",
       " 'Guava',\n",
       " 'banana',\n",
       " 'apple',\n",
       " 'grape',\n",
       " 'pineapple',\n",
       " 'orange',\n",
       " 'kiwi',\n",
       " 'kiwi',\n",
       " 'kiwi']"
      ]
     },
     "execution_count": 27,
     "metadata": {},
     "output_type": "execute_result"
    }
   ],
   "source": [
    "fruitlist.insert(0,\"Guava\")\n",
    "fruitlist"
   ]
  },
  {
   "cell_type": "code",
   "execution_count": 29,
   "metadata": {},
   "outputs": [
    {
     "data": {
      "text/plain": [
       "['',\n",
       " 'Guava',\n",
       " 'banana',\n",
       " 'apple',\n",
       " 'grape',\n",
       " 'pineapple',\n",
       " 'orange',\n",
       " 'kiwi',\n",
       " 'kiwi',\n",
       " 'kiwi']"
      ]
     },
     "execution_count": 29,
     "metadata": {},
     "output_type": "execute_result"
    }
   ],
   "source": [
    "fruitlist[0]=\"\"\n",
    "fruitlist"
   ]
  },
  {
   "cell_type": "code",
   "execution_count": 32,
   "metadata": {},
   "outputs": [
    {
     "data": {
      "text/plain": [
       "''"
      ]
     },
     "execution_count": 32,
     "metadata": {},
     "output_type": "execute_result"
    }
   ],
   "source": [
    "fruitlist.pop(0)"
   ]
  },
  {
   "cell_type": "code",
   "execution_count": 34,
   "metadata": {},
   "outputs": [
    {
     "data": {
      "text/plain": [
       "['Guava',\n",
       " 'banana',\n",
       " 'apple',\n",
       " 'grape',\n",
       " 'pineapple',\n",
       " 'orange',\n",
       " 'kiwi',\n",
       " 'kiwi',\n",
       " 'kiwi']"
      ]
     },
     "execution_count": 34,
     "metadata": {},
     "output_type": "execute_result"
    }
   ],
   "source": [
    "fruitlist"
   ]
  },
  {
   "cell_type": "code",
   "execution_count": 52,
   "metadata": {},
   "outputs": [],
   "source": [
    "fruitlist.remove(\"kiwi\")"
   ]
  },
  {
   "cell_type": "code",
   "execution_count": 57,
   "metadata": {},
   "outputs": [
    {
     "data": {
      "text/plain": [
       "['Guava',\n",
       " 'banana',\n",
       " 'apple',\n",
       " 'grape',\n",
       " 'pineapple',\n",
       " 'orange',\n",
       " 'kiwi',\n",
       " 'kiwi',\n",
       " 'kiwi',\n",
       " 'kiwi',\n",
       " 'kiwi',\n",
       " 'kiwi']"
      ]
     },
     "execution_count": 57,
     "metadata": {},
     "output_type": "execute_result"
    }
   ],
   "source": [
    "fruitlist"
   ]
  },
  {
   "cell_type": "code",
   "execution_count": 83,
   "metadata": {},
   "outputs": [
    {
     "name": "stdout",
     "output_type": "stream",
     "text": [
      "1 ['Guava', 'banana', 'apple', 'grape', 'pineapple', 'orange', 'kiwi', 'kiwi', 'kiwi', 'kiwi', 'kiwi', 'kiwi', 'kiwi']\n",
      "2 ['Guava', 'banana', 'apple', 'grape', 'pineapple', 'orange', 'kiwi', 'kiwi', 'kiwi', 'kiwi', 'kiwi', 'kiwi']\n",
      "3 ['Guava', 'banana', 'apple', 'grape', 'pineapple', 'orange', 'kiwi', 'kiwi', 'kiwi', 'kiwi', 'kiwi']\n",
      "4 ['Guava', 'banana', 'apple', 'grape', 'pineapple', 'orange', 'kiwi', 'kiwi', 'kiwi', 'kiwi']\n",
      "5 ['Guava', 'banana', 'apple', 'grape', 'pineapple', 'orange', 'kiwi', 'kiwi', 'kiwi']\n",
      "6 ['Guava', 'banana', 'apple', 'grape', 'pineapple', 'orange', 'kiwi', 'kiwi']\n",
      "7 ['Guava', 'banana', 'apple', 'grape', 'pineapple', 'orange', 'kiwi']\n",
      "8 ['Guava', 'banana', 'apple', 'grape', 'pineapple', 'orange']\n"
     ]
    },
    {
     "ename": "ValueError",
     "evalue": "list.remove(x): x not in list",
     "output_type": "error",
     "traceback": [
      "\u001b[1;31m---------------------------------------------------------------------------\u001b[0m",
      "\u001b[1;31mValueError\u001b[0m                                Traceback (most recent call last)",
      "\u001b[1;32m<ipython-input-83-5d31455ac8cc>\u001b[0m in \u001b[0;36m<module>\u001b[1;34m\u001b[0m\n\u001b[0;32m      5\u001b[0m         \u001b[1;32mbreak\u001b[0m\u001b[1;33m\u001b[0m\u001b[1;33m\u001b[0m\u001b[0m\n\u001b[0;32m      6\u001b[0m     \u001b[1;32melse\u001b[0m\u001b[1;33m:\u001b[0m\u001b[1;33m\u001b[0m\u001b[1;33m\u001b[0m\u001b[0m\n\u001b[1;32m----> 7\u001b[1;33m         \u001b[0mfruitlist\u001b[0m\u001b[1;33m.\u001b[0m\u001b[0mremove\u001b[0m\u001b[1;33m(\u001b[0m\u001b[1;34m\"kiwi\"\u001b[0m\u001b[1;33m)\u001b[0m\u001b[1;33m\u001b[0m\u001b[1;33m\u001b[0m\u001b[0m\n\u001b[0m\u001b[0;32m      8\u001b[0m         \u001b[0mn\u001b[0m\u001b[1;33m+=\u001b[0m\u001b[1;36m1\u001b[0m\u001b[1;33m\u001b[0m\u001b[1;33m\u001b[0m\u001b[0m\n\u001b[0;32m      9\u001b[0m         \u001b[0mprint\u001b[0m\u001b[1;33m(\u001b[0m\u001b[0mn\u001b[0m\u001b[1;33m,\u001b[0m\u001b[0mfruitlist\u001b[0m\u001b[1;33m)\u001b[0m\u001b[1;33m\u001b[0m\u001b[1;33m\u001b[0m\u001b[0m\n",
      "\u001b[1;31mValueError\u001b[0m: list.remove(x): x not in list"
     ]
    }
   ],
   "source": [
    "#advanced\n",
    "n=0\n",
    "while True:\n",
    "    if 'kiwi' in fruitlist == False:\n",
    "        break\n",
    "    else:\n",
    "        fruitlist.remove(\"kiwi\")\n",
    "        n+=1\n",
    "        print(n,fruitlist)"
   ]
  },
  {
   "cell_type": "code",
   "execution_count": 99,
   "metadata": {},
   "outputs": [
    {
     "name": "stdout",
     "output_type": "stream",
     "text": [
      "55 10 1\n"
     ]
    }
   ],
   "source": [
    "numberlist=[]\n",
    "for i in range(1,11):\n",
    "    numberlist.append(i)\n",
    "print(sum(numberlist),max(numberlist),min(numberlist))"
   ]
  },
  {
   "cell_type": "code",
   "execution_count": 146,
   "metadata": {},
   "outputs": [],
   "source": [
    "number_rev = numberlist.reverse()"
   ]
  },
  {
   "cell_type": "code",
   "execution_count": 147,
   "metadata": {},
   "outputs": [
    {
     "name": "stdout",
     "output_type": "stream",
     "text": [
      "1859961572040 [10, 9, 8, 7, 6, 5, 4, 3, 2, 1]\n"
     ]
    }
   ],
   "source": [
    "print(id(numberlist),numberlist)"
   ]
  },
  {
   "cell_type": "code",
   "execution_count": 148,
   "metadata": {},
   "outputs": [
    {
     "name": "stdout",
     "output_type": "stream",
     "text": [
      "140716189240544 None\n"
     ]
    }
   ],
   "source": [
    "print(id(number_rev),number_rev)"
   ]
  },
  {
   "cell_type": "code",
   "execution_count": null,
   "metadata": {},
   "outputs": [],
   "source": []
  }
 ],
 "metadata": {
  "kernelspec": {
   "display_name": "Python 3",
   "language": "python",
   "name": "python3"
  },
  "language_info": {
   "codemirror_mode": {
    "name": "ipython",
    "version": 3
   },
   "file_extension": ".py",
   "mimetype": "text/x-python",
   "name": "python",
   "nbconvert_exporter": "python",
   "pygments_lexer": "ipython3",
   "version": "3.7.3"
  }
 },
 "nbformat": 4,
 "nbformat_minor": 2
}
